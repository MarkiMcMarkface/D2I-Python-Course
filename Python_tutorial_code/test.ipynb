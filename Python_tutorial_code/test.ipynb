{
 "cells": [
  {
   "cell_type": "code",
   "execution_count": 4,
   "id": "464e82bf",
   "metadata": {},
   "outputs": [
    {
     "name": "stdout",
     "output_type": "stream",
     "text": [
      "15\n",
      "2.0\n",
      "<class 'float'>\n",
      "<class 'int'>\n"
     ]
    }
   ],
   "source": [
    "x = 5\n",
    "y = 10\n",
    "z = x + y\n",
    "# print is a function that, for our simple purposes, will show you \n",
    "# in the terminal (or on the page in Jupyter) the data stored in a variable\n",
    "print(z) \n",
    "j = y / x\n",
    "print(j)\n",
    "# printing the type of a variable tells us what data is stored in it, \n",
    "# floats are numbers with decimals\n",
    "print(type(j)) \n",
    "j = int(j)\n",
    "# we can also convert j to an integer, \n",
    "# and check its worked by printing its new type\n",
    "print((type(j))) "
   ]
  },
  {
   "cell_type": "code",
   "execution_count": 7,
   "id": "004745d3",
   "metadata": {},
   "outputs": [
    {
     "data": {
      "text/plain": [
       "12.56"
      ]
     },
     "execution_count": 7,
     "metadata": {},
     "output_type": "execute_result"
    }
   ],
   "source": [
    "pi = 3.14\n",
    "radius = 2\n",
    "area = pi * (radius ** 2) \n",
    "area "
   ]
  },
  {
   "cell_type": "code",
   "execution_count": 12,
   "id": "a1c60079",
   "metadata": {},
   "outputs": [
    {
     "data": {
      "text/plain": [
       "'Hi I am Marki: 12.56'"
      ]
     },
     "execution_count": 12,
     "metadata": {},
     "output_type": "execute_result"
    }
   ],
   "source": [
    "p1 = \"Hi I am\"\n",
    "p2 = \"Marki\"\n",
    "\n",
    "comp = f\"{p1} {p2}: {pi * (radius ** 2) }\"\n",
    "\n",
    "comp "
   ]
  },
  {
   "cell_type": "code",
   "execution_count": 25,
   "id": "f5edcc3a",
   "metadata": {},
   "outputs": [
    {
     "data": {
      "text/plain": [
       "'65.21 :ikraM ma I iH'"
      ]
     },
     "execution_count": 25,
     "metadata": {},
     "output_type": "execute_result"
    }
   ],
   "source": [
    "comp[::-1]"
   ]
  },
  {
   "cell_type": "code",
   "execution_count": 45,
   "id": "2ca356cb",
   "metadata": {},
   "outputs": [
    {
     "name": "stdout",
     "output_type": "stream",
     "text": [
      "do\n",
      "cat\n",
      "racoon\n"
     ]
    }
   ],
   "source": [
    "slice_this_phrase = 'dog cat racoon'\n",
    "\n",
    "d = slice_this_phrase[:2]\n",
    "\n",
    "c = slice_this_phrase[4:7]\n",
    "\n",
    "r = slice_this_phrase[-6:]\n",
    "\n",
    "print(d)\n",
    "print(c)\n",
    "print(r)\n"
   ]
  },
  {
   "cell_type": "code",
   "execution_count": 47,
   "id": "b26ff07c",
   "metadata": {},
   "outputs": [
    {
     "name": "stdout",
     "output_type": "stream",
     "text": [
      "  letter word  number\n",
      "0      A  Foo       1\n",
      "1      B  Bar       2\n",
      "2      C  Baz       3\n"
     ]
    }
   ],
   "source": [
    "import pandas as pd\n",
    "\n",
    "df_2 = pd.DataFrame([  \n",
    "    {'letter':'A',\n",
    "     'word':'Foo',\n",
    "     'number':1},\n",
    "     {'letter':'B',\n",
    "     'word':'Bar',\n",
    "     'number':2},\n",
    "     {'letter':'C',\n",
    "     'word':'Baz',\n",
    "     'number':3},\n",
    "])\n",
    "\n",
    "print(df_2)"
   ]
  }
 ],
 "metadata": {
  "kernelspec": {
   "display_name": "Python 3",
   "language": "python",
   "name": "python3"
  },
  "language_info": {
   "codemirror_mode": {
    "name": "ipython",
    "version": 3
   },
   "file_extension": ".py",
   "mimetype": "text/x-python",
   "name": "python",
   "nbconvert_exporter": "python",
   "pygments_lexer": "ipython3",
   "version": "3.12.1"
  }
 },
 "nbformat": 4,
 "nbformat_minor": 5
}
